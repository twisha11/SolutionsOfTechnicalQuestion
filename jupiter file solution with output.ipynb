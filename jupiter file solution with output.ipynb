{
 "cells": [
  {
   "cell_type": "markdown",
   "id": "16a87a8b",
   "metadata": {},
   "source": [
    "# Technical Questions Answer."
   ]
  },
  {
   "cell_type": "markdown",
   "id": "7a79eb65",
   "metadata": {},
   "source": [
    "### Problem 1: Program to count occurrences of a given character in a string.\n",
    "\n",
    "    Count character 'e' in the below string.\n",
    "\tInput \"geeksforgeeks\". \n",
    "\tOutput: 4\n",
    "\n",
    "\tCount character '3' in the below string.\n",
    "\tInput \"abccdefgaa.\"\n",
    "\tOutput : 3\n"
   ]
  },
  {
   "cell_type": "code",
   "execution_count": 1,
   "id": "10b81721",
   "metadata": {},
   "outputs": [
    {
     "name": "stdout",
     "output_type": "stream",
     "text": [
      "Input :  geeksforgeeks\n",
      "Charater :  e\n",
      "Output :  4\n",
      "-------------------------------------------\n",
      "Input :  abccdefgaa.\n",
      "Charater :  3\n",
      "Output :  0\n"
     ]
    }
   ],
   "source": [
    "# Function for Count the Character in String\n",
    "def count_char(input_string, target_character):\n",
    "    count = 0\n",
    "    for char in input_string:\n",
    "        if char == target_character:\n",
    "            count += 1\n",
    "    return count\n",
    "\n",
    "\n",
    "# Example 1\n",
    "input_string1 = \"geeksforgeeks\"\n",
    "target_character1 = 'e'\n",
    "result1 = count_char(input_string1, target_character1)\n",
    "print(\"Input : \", input_string1)\n",
    "print(\"Charater : \",target_character1)\n",
    "print(\"Output : \",result1)\n",
    "\n",
    "\n",
    "print(\"-------------------------------------------\")\n",
    "\n",
    "\n",
    "# Example 2\n",
    "input_string2 = \"abccdefgaa.\"\n",
    "target_character2 = '3'\n",
    "result2 = count_char(input_string2, target_character2)\n",
    "print(\"Input : \", input_string2)\n",
    "print(\"Charater : \",target_character2)\n",
    "print(\"Output : \",result2)\n"
   ]
  },
  {
   "cell_type": "markdown",
   "id": "6e04e608",
   "metadata": {},
   "source": [
    "### Problem 2:  Determine whether a given string is Palindrome\n",
    "\n",
    "     A string “madam” is a palindromic string because it reads the same forwards and backward. \n",
    "         \n",
    "         Input: “anna”\n",
    "         Output: true\n",
    "            \n",
    "         Input: “India”\n",
    "         Output: false\n"
   ]
  },
  {
   "cell_type": "code",
   "execution_count": 2,
   "id": "f5970c96",
   "metadata": {},
   "outputs": [
    {
     "name": "stdout",
     "output_type": "stream",
     "text": [
      "Input :  anna\n",
      "output :  Yes\n",
      "-------------------------------\n",
      "Input :  India\n",
      "output :  No\n"
     ]
    }
   ],
   "source": [
    "def is_palindrome(input_string):\n",
    "    w = \"\"\n",
    "    for i in input_string:\n",
    "        w = i + w\n",
    "\n",
    "    if (input_string == w):\n",
    "        result = \"Yes\"\n",
    "    else:\n",
    "        result = \"No\"\n",
    "\n",
    "    return result\n",
    "\n",
    "# Example 1\n",
    "input_string1 = \"anna\"\n",
    "result1 = is_palindrome(input_string1)\n",
    "print(\"Input : \",input_string1)\n",
    "print(\"output : \", result1)\n",
    "\n",
    "print(\"-------------------------------\")\n",
    "# Example 2\n",
    "input_string2 = \"India\"\n",
    "result2 = is_palindrome(input_string2)\n",
    "print(\"Input : \",input_string2)\n",
    "print(\"output : \", result2)\n",
    "\n"
   ]
  },
  {
   "cell_type": "markdown",
   "id": "67d19137",
   "metadata": {},
   "source": [
    "### Problem 3:  Biggest and smallest number in an array\n",
    "\n",
    "      Write a program to print the biggest and smallest number in the array. \n",
    "\n",
    "      Input: arr[] = {1, 2, 3, 4, 5}\n",
    "      Output: Maximum is: 5\n",
    "      Minimum is: 1\n",
    "\n",
    "      Input: arr[] = {5, 3, 7, 4, 2}\n",
    "      Output: Maximum is: 7\n",
    "      Minimum is: 2\n",
    "\n",
    "\n",
    "\n",
    "\n",
    "\n",
    "\n",
    "----------------------------------------------------------------------------------\n"
   ]
  },
  {
   "cell_type": "code",
   "execution_count": 3,
   "id": "d1c68748",
   "metadata": {},
   "outputs": [
    {
     "name": "stdout",
     "output_type": "stream",
     "text": [
      "Input : [1, 2, 3, 4, 5]\n",
      "Output : \n",
      "       Maximum is: 5\n",
      "       Minimum is: 1\n",
      "------------------------\n",
      "Input : [5, 3, 7, 4, 2]\n",
      "Output : \n",
      "       Maximum is: 7\n",
      "       Minimum is: 2\n"
     ]
    }
   ],
   "source": [
    "# Example 1\n",
    "arr1 = [1, 2, 3, 4, 5]\n",
    "max1 = max(arr1)\n",
    "min1 = min(arr1)\n",
    "print(\"Input :\",arr1)\n",
    "print(\"Output : \")\n",
    "print(\"       Maximum is:\",max1)\n",
    "print(\"       Minimum is:\",min1)\n",
    "\n",
    "print(\"------------------------\")\n",
    "# Example 2\n",
    "arr2 = [5, 3, 7, 4, 2]\n",
    "max2 = max(arr2)\n",
    "min2 = min(arr2)\n",
    "print(\"Input :\",arr2)\n",
    "print(\"Output : \")\n",
    "print(\"       Maximum is:\",max2)\n",
    "print(\"       Minimum is:\",min2)\n",
    "\n"
   ]
  },
  {
   "cell_type": "code",
   "execution_count": null,
   "id": "71715e13",
   "metadata": {},
   "outputs": [],
   "source": []
  },
  {
   "cell_type": "code",
   "execution_count": null,
   "id": "045d747f",
   "metadata": {},
   "outputs": [],
   "source": []
  },
  {
   "cell_type": "markdown",
   "id": "20672a11",
   "metadata": {},
   "source": [
    "### Problem 4:  Swap two Strings Without Using any Third Variable \n",
    "\n",
    "     Input: a = \"Hello\", b = \"World\".\n",
    "     Output: Strings after swap: a = World and b = Hello\n",
    "\n",
    "\n",
    "\n",
    "\n",
    "\n",
    "\n",
    "\n",
    "\n",
    "\n",
    "\n",
    "\n",
    "\n",
    "\n",
    "----------------------------------------------------------------------------------------------"
   ]
  },
  {
   "cell_type": "code",
   "execution_count": 4,
   "id": "d6622616",
   "metadata": {},
   "outputs": [
    {
     "name": "stdout",
     "output_type": "stream",
     "text": [
      "Before Swap \n",
      "a = Hello\n",
      "b=  World\n",
      "-------------------------\n",
      "After Swap\n",
      "a = World\n",
      "b = Hello\n"
     ]
    }
   ],
   "source": [
    "# Input strings\n",
    "a = \"Hello\"\n",
    "b = \"World\"\n",
    "\n",
    "print(\"Before Swap \")\n",
    "print(\"a =\",a)\n",
    "print(\"b= \",b)\n",
    "\n",
    "print(\"-------------------------\")\n",
    "\n",
    "# Swapping without using a third variable\n",
    "a, b = b, a\n",
    "\n",
    "# Print the result\n",
    "print(\"After Swap\")\n",
    "print(\"a =\",a)\n",
    "print(\"b =\",b)\n"
   ]
  },
  {
   "cell_type": "code",
   "execution_count": null,
   "id": "2ab0523f",
   "metadata": {},
   "outputs": [],
   "source": []
  },
  {
   "cell_type": "code",
   "execution_count": null,
   "id": "597e12d4",
   "metadata": {},
   "outputs": [],
   "source": []
  },
  {
   "cell_type": "code",
   "execution_count": null,
   "id": "ed89cf2b",
   "metadata": {},
   "outputs": [],
   "source": []
  },
  {
   "cell_type": "code",
   "execution_count": null,
   "id": "bf757dae",
   "metadata": {},
   "outputs": [],
   "source": []
  },
  {
   "cell_type": "code",
   "execution_count": null,
   "id": "8c22ec9b",
   "metadata": {},
   "outputs": [],
   "source": []
  },
  {
   "cell_type": "code",
   "execution_count": null,
   "id": "1a918be9",
   "metadata": {},
   "outputs": [],
   "source": []
  },
  {
   "cell_type": "code",
   "execution_count": null,
   "id": "22583aa4",
   "metadata": {},
   "outputs": [],
   "source": []
  },
  {
   "cell_type": "markdown",
   "id": "630a7001",
   "metadata": {},
   "source": [
    "### Problem 5: Swap two numbers without using a temporary variable\n",
    "    \n",
    "    Input:integer a = \"10\", b = \"50\".\n",
    "    Output: Strings after swap: a = 50 and b = 10\n"
   ]
  },
  {
   "cell_type": "code",
   "execution_count": 3,
   "id": "c83b5f5f",
   "metadata": {},
   "outputs": [
    {
     "name": "stdout",
     "output_type": "stream",
     "text": [
      "Before Swap \n",
      "a = 10\n",
      "b=  50\n",
      "-------------------------\n",
      "After Swap\n",
      "a = 50\n",
      "b = 10\n"
     ]
    }
   ],
   "source": [
    "def swap_numbers(a, b):\n",
    "    a,b=b,a\n",
    "\n",
    "    return a, b\n",
    "\n",
    "# Example\n",
    "a = 10\n",
    "b = 50\n",
    "\n",
    "print(\"Before Swap \")\n",
    "print(\"a =\", a)\n",
    "print(\"b= \", b)\n",
    "\n",
    "print(\"-------------------------\")\n",
    "\n",
    "# Swapping using a third variable\n",
    "a, b = swap_numbers(a, b)\n",
    "\n",
    "\n",
    "# Print the result\n",
    "print(\"After Swap\")\n",
    "print(\"a =\", a)\n",
    "print(\"b =\", b)"
   ]
  },
  {
   "cell_type": "code",
   "execution_count": null,
   "id": "444f67c9",
   "metadata": {},
   "outputs": [],
   "source": []
  }
 ],
 "metadata": {
  "kernelspec": {
   "display_name": "Python 3 (ipykernel)",
   "language": "python",
   "name": "python3"
  },
  "language_info": {
   "codemirror_mode": {
    "name": "ipython",
    "version": 3
   },
   "file_extension": ".py",
   "mimetype": "text/x-python",
   "name": "python",
   "nbconvert_exporter": "python",
   "pygments_lexer": "ipython3",
   "version": "3.9.12"
  }
 },
 "nbformat": 4,
 "nbformat_minor": 5
}
